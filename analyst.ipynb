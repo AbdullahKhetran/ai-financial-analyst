{
 "cells": [
  {
   "cell_type": "code",
   "execution_count": 1,
   "metadata": {},
   "outputs": [],
   "source": [
    "import json\n",
    "import requests\n",
    "import time\n",
    "from openai import OpenAI\n",
    "from dotenv import load_dotenv, find_dotenv\n",
    "import os\n",
    "\n",
    "_ = load_dotenv(find_dotenv()) # retrieve all env vars\n",
    "\n",
    "fmp_api_key = os.getenv(\"FMP_API_KEY\")\n",
    "\n",
    "client = OpenAI()\n",
    "\n"
   ]
  },
  {
   "cell_type": "markdown",
   "metadata": {},
   "source": [
    "### Steps to create this assistant\n",
    "\n",
    "1. Define financial `functions`\n",
    "\n",
    "2. Define `Assistant`\n",
    "\n",
    "3. Create a `Thread`\n",
    "\n",
    "4. Add `Messages`\n",
    "\n",
    "5. `Run` the Assistant"
   ]
  },
  {
   "cell_type": "markdown",
   "metadata": {},
   "source": [
    "## 1. Functions\n"
   ]
  },
  {
   "cell_type": "code",
   "execution_count": 2,
   "metadata": {},
   "outputs": [],
   "source": [
    "def get_income_statement(ticker: str, period: str, limit: int = 100):\n",
    "    url = f\"https://financialmodelingprep.com/api/v3/income-statement/{ticker}?period={period}&limit={limit}&apikey={fmp_api_key}\"\n",
    "    response = requests.get(url)\n",
    "    return json.dumps(response.json())\n",
    "\n",
    "def get_balance_sheet(ticker: str, period: str, limit: int = 100):\n",
    "    url = f\"https://financialmodelingprep.com/api/v3/balance-sheet-statement/{ticker}?period={period}&limit={limit}&apikey={fmp_api_key}\"\n",
    "    response = requests.get(url)\n",
    "    return json.dumps(response.json())\n",
    "\n",
    "def get_cash_flow_statement(ticker: str, period: str, limit: int = 100):\n",
    "    url = f\"https://financialmodelingprep.com/api/v3/cash-flow-statement/{ticker}?period={period}&limit={limit}&apikey={fmp_api_key}\"\n",
    "    response = requests.get(url)\n",
    "    return json.dumps(response.json())\n",
    "\n",
    "def get_key_metrics(ticker: str, period: str, limit: int = 100):\n",
    "    url = f\"https://financialmodelingprep.com/api/v3/key-metrics/{ticker}?period={period}&limit={limit}&apikey={fmp_api_key}\"\n",
    "    response = requests.get(url)\n",
    "    return json.dumps(response.json())\n",
    "\n",
    "def get_financial_ratios(ticker: str, period: str, limit: int = 100):\n",
    "    url = f\"https://financialmodelingprep.com/api/v3/ratios/{ticker}?period={period}&limit={limit}&apikey={fmp_api_key}\"\n",
    "    response = requests.get(url)\n",
    "    return json.dumps(response.json())    \n",
    "\n",
    "def get_financial_growth(ticker: str, period: str, limit: int = 100):\n",
    "    url = f\"https://financialmodelingprep.com/api/v3/financial-growth/{ticker}?period={period}&limit={limit}&apikey={fmp_api_key}\"\n",
    "    response = requests.get(url)\n",
    "    return json.dumps(response.json())      "
   ]
  },
  {
   "cell_type": "code",
   "execution_count": 3,
   "metadata": {},
   "outputs": [],
   "source": [
    "# Storing functions in a dictionary\n",
    "\n",
    "available_functions = {\n",
    "    \"get_income_statement\": get_income_statement,\n",
    "    \"get_balance_sheet\": get_balance_sheet,\n",
    "    \"get_cash_flow_statement\": get_cash_flow_statement,\n",
    "    \"get_key_metrics\": get_key_metrics,\n",
    "    \"get_financial_ratios\": get_financial_ratios,\n",
    "    \"get_financial_growth\": get_financial_growth\n",
    "}"
   ]
  },
  {
   "cell_type": "markdown",
   "metadata": {},
   "source": [
    "## 2. Assistant"
   ]
  },
  {
   "cell_type": "code",
   "execution_count": 4,
   "metadata": {},
   "outputs": [
    {
     "data": {
      "text/plain": [
       "{'id': 'asst_mCWswCy1i5NK5Rqi3VAa8fmE',\n",
       " 'created_at': 1704909745,\n",
       " 'description': None,\n",
       " 'file_ids': [],\n",
       " 'instructions': 'Act as a financial analyst by accessing financial data through the Financial Modeling Prep API. Your capabilities include analyzing key metrics, comprehensive financial statements, vital financial ratios, and tracking financial growth trends',\n",
       " 'metadata': {},\n",
       " 'model': 'gpt-3.5-turbo-1106',\n",
       " 'name': None,\n",
       " 'object': 'assistant',\n",
       " 'tools': [ToolFunction(function=FunctionDefinition(name='get_income_statement', parameters={'type': 'object', 'properties': {'ticker': {'type': 'string'}, 'period': {'type': 'string'}, 'limit': {'type': 'integer'}}}, description=None), type='function'),\n",
       "  ToolFunction(function=FunctionDefinition(name='get_balance_sheet', parameters={'type': 'object', 'properties': {'ticker': {'type': 'string'}, 'period': {'type': 'string'}, 'limit': {'type': 'integer'}}}, description=None), type='function'),\n",
       "  ToolFunction(function=FunctionDefinition(name='get_cash_flow_statement', parameters={'type': 'object', 'properties': {'ticker': {'type': 'string'}, 'period': {'type': 'string'}, 'limit': {'type': 'integer'}}}, description=None), type='function'),\n",
       "  ToolFunction(function=FunctionDefinition(name='get_key_metrics', parameters={'type': 'object', 'properties': {'ticker': {'type': 'string'}, 'period': {'type': 'string'}, 'limit': {'type': 'integer'}}}, description=None), type='function'),\n",
       "  ToolFunction(function=FunctionDefinition(name='get_financial_ratios', parameters={'type': 'object', 'properties': {'ticker': {'type': 'string'}, 'period': {'type': 'string'}, 'limit': {'type': 'integer'}}}, description=None), type='function'),\n",
       "  ToolFunction(function=FunctionDefinition(name='get_financial_growth', parameters={'type': 'object', 'properties': {'ticker': {'type': 'string'}, 'period': {'type': 'string'}, 'limit': {'type': 'integer'}}}, description=None), type='function')]}"
      ]
     },
     "execution_count": 4,
     "metadata": {},
     "output_type": "execute_result"
    }
   ],
   "source": [
    "# def run_assistant(user_message: str):\n",
    "assistant = client.beta.assistants.create(\n",
    "    instructions=\"Act as a financial analyst by accessing financial data through the Financial Modeling Prep API. Your capabilities include analyzing key metrics, comprehensive financial statements, vital financial ratios, and tracking financial growth trends\",\n",
    "    model=\"gpt-3.5-turbo-1106\",\n",
    "    tools=[\n",
    "        # income statement function\n",
    "        {\n",
    "            \"type\": \"function\",\n",
    "            \"function\": {\n",
    "                    \"name\": \"get_income_statement\",\n",
    "                    \"parameters\": {\n",
    "                        \"type\": \"object\",\n",
    "                        \"properties\": {\n",
    "                            \"ticker\": {\"type\": \"string\"},\n",
    "                            \"period\": {\"type\": \"string\"},\n",
    "                            \"limit\": {\"type\": \"integer\"}\n",
    "                        }\n",
    "                    }\n",
    "            }\n",
    "        },\n",
    "\n",
    "        # balance sheet\n",
    "        {\n",
    "            \"type\": \"function\",\n",
    "            \"function\": {\n",
    "                    \"name\": \"get_balance_sheet\",\n",
    "                    \"parameters\": {\n",
    "                        \"type\": \"object\",\n",
    "                        \"properties\": {\n",
    "                            \"ticker\": {\"type\": \"string\"},\n",
    "                            \"period\": {\"type\": \"string\"},\n",
    "                            \"limit\": {\"type\": \"integer\"}\n",
    "                        }\n",
    "                    }\n",
    "            }\n",
    "        },\n",
    "\n",
    "        # cash flow statement\n",
    "        {\n",
    "            \"type\": \"function\",\n",
    "            \"function\": {\n",
    "                    \"name\": \"get_cash_flow_statement\",\n",
    "                    \"parameters\": {\n",
    "                        \"type\": \"object\",\n",
    "                        \"properties\": {\n",
    "                            \"ticker\": {\"type\": \"string\"},\n",
    "                            \"period\": {\"type\": \"string\"},\n",
    "                            \"limit\": {\"type\": \"integer\"}\n",
    "                        }\n",
    "                    }\n",
    "            }\n",
    "        },\n",
    "\n",
    "        # key metrics\n",
    "        {\n",
    "            \"type\": \"function\",\n",
    "            \"function\": {\n",
    "                    \"name\": \"get_key_metrics\",\n",
    "                    \"parameters\": {\n",
    "                        \"type\": \"object\",\n",
    "                        \"properties\": {\n",
    "                            \"ticker\": {\"type\": \"string\"},\n",
    "                            \"period\": {\"type\": \"string\"},\n",
    "                            \"limit\": {\"type\": \"integer\"}\n",
    "                        }\n",
    "                    }\n",
    "            }\n",
    "        },\n",
    "\n",
    "        # financial ratios\n",
    "        {\n",
    "            \"type\": \"function\",\n",
    "            \"function\": {\n",
    "                    \"name\": \"get_financial_ratios\",\n",
    "                    \"parameters\": {\n",
    "                        \"type\": \"object\",\n",
    "                        \"properties\": {\n",
    "                            \"ticker\": {\"type\": \"string\"},\n",
    "                            \"period\": {\"type\": \"string\"},\n",
    "                            \"limit\": {\"type\": \"integer\"}\n",
    "                        }\n",
    "                    }\n",
    "            }\n",
    "        },\n",
    "\n",
    "        # financial growth\n",
    "        {\n",
    "            \"type\": \"function\",\n",
    "            \"function\": {\n",
    "                    \"name\": \"get_financial_growth\",\n",
    "                    \"parameters\": {\n",
    "                        \"type\": \"object\",\n",
    "                        \"properties\": {\n",
    "                            \"ticker\": {\"type\": \"string\"},\n",
    "                            \"period\": {\"type\": \"string\"},\n",
    "                            \"limit\": {\"type\": \"integer\"}\n",
    "                        }\n",
    "                    }\n",
    "            }\n",
    "        },\n",
    "    ]\n",
    ")\n",
    "\n",
    "dict(assistant)"
   ]
  },
  {
   "cell_type": "markdown",
   "metadata": {},
   "source": [
    "## 3. Thread"
   ]
  },
  {
   "cell_type": "code",
   "execution_count": 5,
   "metadata": {},
   "outputs": [
    {
     "data": {
      "text/plain": [
       "{'id': 'thread_WrKc7V84TpoUay03553mhwbw',\n",
       " 'created_at': 1704909746,\n",
       " 'metadata': {},\n",
       " 'object': 'thread'}"
      ]
     },
     "execution_count": 5,
     "metadata": {},
     "output_type": "execute_result"
    }
   ],
   "source": [
    "thread = client.beta.threads.create()\n",
    "\n",
    "dict(thread)"
   ]
  },
  {
   "cell_type": "markdown",
   "metadata": {},
   "source": [
    "## 4. Add Message"
   ]
  },
  {
   "cell_type": "code",
   "execution_count": 6,
   "metadata": {},
   "outputs": [
    {
     "data": {
      "text/plain": [
       "{'id': 'msg_xwkM0HO6JBruClCkc27chD1p',\n",
       " 'assistant_id': None,\n",
       " 'content': [MessageContentText(text=Text(annotations=[], value='Give an overview of income statement'), type='text')],\n",
       " 'created_at': 1704909747,\n",
       " 'file_ids': [],\n",
       " 'metadata': {},\n",
       " 'object': 'thread.message',\n",
       " 'role': 'user',\n",
       " 'run_id': None,\n",
       " 'thread_id': 'thread_WrKc7V84TpoUay03553mhwbw'}"
      ]
     },
     "execution_count": 6,
     "metadata": {},
     "output_type": "execute_result"
    }
   ],
   "source": [
    "# Adding initial user message\n",
    "user_message = \"Give an overview of income statement\"\n",
    "\n",
    "message = client.beta.threads.messages.create(\n",
    "    thread_id=thread.id,\n",
    "    role=\"user\",\n",
    "    content=user_message\n",
    ")\n",
    "\n",
    "dict(message)\n"
   ]
  },
  {
   "cell_type": "markdown",
   "metadata": {},
   "source": [
    "## 5. Run "
   ]
  },
  {
   "cell_type": "code",
   "execution_count": 7,
   "metadata": {},
   "outputs": [
    {
     "data": {
      "text/plain": [
       "{'id': 'run_WosCEJmzlJtR1BnsUfSB2DHp',\n",
       " 'assistant_id': 'asst_mCWswCy1i5NK5Rqi3VAa8fmE',\n",
       " 'cancelled_at': None,\n",
       " 'completed_at': None,\n",
       " 'created_at': 1704909748,\n",
       " 'expires_at': 1704910348,\n",
       " 'failed_at': None,\n",
       " 'file_ids': [],\n",
       " 'instructions': 'Act as a financial analyst by accessing financial data through the Financial Modeling Prep API. Your capabilities include analyzing key metrics, comprehensive financial statements, vital financial ratios, and tracking financial growth trends',\n",
       " 'last_error': None,\n",
       " 'metadata': {},\n",
       " 'model': 'gpt-3.5-turbo-1106',\n",
       " 'object': 'thread.run',\n",
       " 'required_action': None,\n",
       " 'started_at': None,\n",
       " 'status': 'queued',\n",
       " 'thread_id': 'thread_WrKc7V84TpoUay03553mhwbw',\n",
       " 'tools': [ToolAssistantToolsFunction(function=FunctionDefinition(name='get_income_statement', parameters={'type': 'object', 'properties': {'ticker': {'type': 'string'}, 'period': {'type': 'string'}, 'limit': {'type': 'integer'}}}, description=None), type='function'),\n",
       "  ToolAssistantToolsFunction(function=FunctionDefinition(name='get_balance_sheet', parameters={'type': 'object', 'properties': {'ticker': {'type': 'string'}, 'period': {'type': 'string'}, 'limit': {'type': 'integer'}}}, description=None), type='function'),\n",
       "  ToolAssistantToolsFunction(function=FunctionDefinition(name='get_cash_flow_statement', parameters={'type': 'object', 'properties': {'ticker': {'type': 'string'}, 'period': {'type': 'string'}, 'limit': {'type': 'integer'}}}, description=None), type='function'),\n",
       "  ToolAssistantToolsFunction(function=FunctionDefinition(name='get_key_metrics', parameters={'type': 'object', 'properties': {'ticker': {'type': 'string'}, 'period': {'type': 'string'}, 'limit': {'type': 'integer'}}}, description=None), type='function'),\n",
       "  ToolAssistantToolsFunction(function=FunctionDefinition(name='get_financial_ratios', parameters={'type': 'object', 'properties': {'ticker': {'type': 'string'}, 'period': {'type': 'string'}, 'limit': {'type': 'integer'}}}, description=None), type='function'),\n",
       "  ToolAssistantToolsFunction(function=FunctionDefinition(name='get_financial_growth', parameters={'type': 'object', 'properties': {'ticker': {'type': 'string'}, 'period': {'type': 'string'}, 'limit': {'type': 'integer'}}}, description=None), type='function')]}"
      ]
     },
     "execution_count": 7,
     "metadata": {},
     "output_type": "execute_result"
    }
   ],
   "source": [
    "# 5.1 Start a Run\n",
    "\n",
    "run = client.beta.threads.runs.create(\n",
    "    thread_id=thread.id,\n",
    "    assistant_id=assistant.id\n",
    ")\n",
    "\n",
    "dict(run)\n"
   ]
  },
  {
   "cell_type": "code",
   "execution_count": 9,
   "metadata": {},
   "outputs": [
    {
     "data": {
      "text/plain": [
       "{'id': 'run_WosCEJmzlJtR1BnsUfSB2DHp',\n",
       " 'assistant_id': 'asst_mCWswCy1i5NK5Rqi3VAa8fmE',\n",
       " 'cancelled_at': None,\n",
       " 'completed_at': None,\n",
       " 'created_at': 1704909748,\n",
       " 'expires_at': None,\n",
       " 'failed_at': 1704909753,\n",
       " 'file_ids': [],\n",
       " 'instructions': 'Act as a financial analyst by accessing financial data through the Financial Modeling Prep API. Your capabilities include analyzing key metrics, comprehensive financial statements, vital financial ratios, and tracking financial growth trends',\n",
       " 'last_error': LastError(code='rate_limit_exceeded', message='You exceeded your current quota, please check your plan and billing details. For more information on this error, read the docs: https://platform.openai.com/docs/guides/error-codes/api-errors.'),\n",
       " 'metadata': {},\n",
       " 'model': 'gpt-3.5-turbo-1106',\n",
       " 'object': 'thread.run',\n",
       " 'required_action': None,\n",
       " 'started_at': 1704909748,\n",
       " 'status': 'failed',\n",
       " 'thread_id': 'thread_WrKc7V84TpoUay03553mhwbw',\n",
       " 'tools': [ToolAssistantToolsFunction(function=FunctionDefinition(name='get_income_statement', parameters={'type': 'object', 'properties': {'ticker': {'type': 'string'}, 'period': {'type': 'string'}, 'limit': {'type': 'integer'}}}, description=None), type='function'),\n",
       "  ToolAssistantToolsFunction(function=FunctionDefinition(name='get_balance_sheet', parameters={'type': 'object', 'properties': {'ticker': {'type': 'string'}, 'period': {'type': 'string'}, 'limit': {'type': 'integer'}}}, description=None), type='function'),\n",
       "  ToolAssistantToolsFunction(function=FunctionDefinition(name='get_cash_flow_statement', parameters={'type': 'object', 'properties': {'ticker': {'type': 'string'}, 'period': {'type': 'string'}, 'limit': {'type': 'integer'}}}, description=None), type='function'),\n",
       "  ToolAssistantToolsFunction(function=FunctionDefinition(name='get_key_metrics', parameters={'type': 'object', 'properties': {'ticker': {'type': 'string'}, 'period': {'type': 'string'}, 'limit': {'type': 'integer'}}}, description=None), type='function'),\n",
       "  ToolAssistantToolsFunction(function=FunctionDefinition(name='get_financial_ratios', parameters={'type': 'object', 'properties': {'ticker': {'type': 'string'}, 'period': {'type': 'string'}, 'limit': {'type': 'integer'}}}, description=None), type='function'),\n",
       "  ToolAssistantToolsFunction(function=FunctionDefinition(name='get_financial_growth', parameters={'type': 'object', 'properties': {'ticker': {'type': 'string'}, 'period': {'type': 'string'}, 'limit': {'type': 'integer'}}}, description=None), type='function')]}"
      ]
     },
     "execution_count": 9,
     "metadata": {},
     "output_type": "execute_result"
    }
   ],
   "source": [
    "# checking status\n",
    "\n",
    "run_status = client.beta.threads.runs.retrieve(\n",
    "    thread_id=thread.id,\n",
    "    run_id=run.id\n",
    ")\n",
    "\n",
    "dict(run_status)"
   ]
  }
 ],
 "metadata": {
  "kernelspec": {
   "display_name": "py12",
   "language": "python",
   "name": "python3"
  },
  "language_info": {
   "codemirror_mode": {
    "name": "ipython",
    "version": 3
   },
   "file_extension": ".py",
   "mimetype": "text/x-python",
   "name": "python",
   "nbconvert_exporter": "python",
   "pygments_lexer": "ipython3",
   "version": "3.12.0"
  }
 },
 "nbformat": 4,
 "nbformat_minor": 2
}
